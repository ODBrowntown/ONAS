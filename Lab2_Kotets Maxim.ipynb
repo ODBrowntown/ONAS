{
 "cells": [
  {
   "cell_type": "code",
   "execution_count": 1,
   "metadata": {},
   "outputs": [
    {
     "name": "stdout",
     "output_type": "stream",
     "text": [
      "{'Харьков': 'Харьковская', 'Киев': 'Киевская', 'Одесса': 'Одесская'}\n",
      "3\n",
      "{'Киев': 'Киевская', 'Харьков': 'Харьковская', 'Одесса': 'Одесская'}\n",
      "3\n"
     ]
    }
   ],
   "source": [
    "million = {\n",
    "    'Харьков' : '1 451 132',\n",
    "    'Киев' : '2 868 702',\n",
    "    'Одесса' : '1 017 022',\n",
    "}\n",
    "\n",
    "region = {\n",
    "    'Винница'         : 'Винницкая',\n",
    "    'Луцк'            : 'Волынская',\n",
    "    'Днепр'           : 'Днепропетровская',\n",
    "    'Донецк'          : 'Донецкая',\n",
    "    'Житомир'         : 'Житомирская',\n",
    "    'Ужгород'         : 'Закарпатская',\n",
    "    'Запорожье'       : 'Запорожская',\n",
    "    'Ивано-Франковск' : 'Ивано-Франковская',\n",
    "    'Киев'            : 'Киевская',\n",
    "    'Кропивницкий'    : 'Кировоградская',\n",
    "    'Луганск'         : 'Луганская',\n",
    "    'Львов'           : 'Львовская',\n",
    "    'Николаев'        : 'Николаевская',\n",
    "    'Одесса'          : 'Одесская',\n",
    "    'Полтава'         : 'Полтавская',\n",
    "    'Ровно'           : 'Ровненская',\n",
    "    'Сумы'            : 'Сумская',\n",
    "    'Тернополь'       : 'Тернопольская',\n",
    "    'Харьков'         : 'Харьковская',\n",
    "    'Херсон'          : 'Херсонская',\n",
    "    'Хмельницкий'     : 'Хмельницкая',\n",
    "    'Черкассы'        : 'Черкасская',\n",
    "    'Чернигов'        : 'Черниговская',\n",
    "    'Черновцы'        : 'Черновицкая',\n",
    "}\n",
    "n = {}\n",
    "for m in million.keys():\n",
    "    for r in region.keys():\n",
    "        if m == r:\n",
    "            n[r] = region.get(r)\n",
    "        else:\n",
    "            continue\n",
    "print (n)\n",
    "print (len(n))\n",
    "\n",
    "million_d = list(million.items())\n",
    "# print(million_d)\n",
    "\n",
    "million_d.sort(key = lambda  i: i[1])\n",
    "million_d.reverse()\n",
    "# print(million_d)\n",
    "\n",
    "n.clear()\n",
    "\n",
    "for i in million_d:\n",
    "    for r in region.keys():\n",
    "        if i[0] == r:\n",
    "            n[r] = region.get(r)\n",
    "        else:\n",
    "            continue\n",
    "print (n)\n",
    "print (len(n))"
   ]
  },
  {
   "cell_type": "code",
   "execution_count": null,
   "metadata": {},
   "outputs": [],
   "source": []
  }
 ],
 "metadata": {
  "kernelspec": {
   "display_name": "Python 3",
   "language": "python",
   "name": "python3"
  },
  "language_info": {
   "codemirror_mode": {
    "name": "ipython",
    "version": 3
   },
   "file_extension": ".py",
   "mimetype": "text/x-python",
   "name": "python",
   "nbconvert_exporter": "python",
   "pygments_lexer": "ipython3",
   "version": "3.8.3"
  }
 },
 "nbformat": 4,
 "nbformat_minor": 4
}
