{
 "cells": [
  {
   "cell_type": "code",
   "execution_count": 62,
   "metadata": {},
   "outputs": [
    {
     "name": "stdout",
     "output_type": "stream",
     "text": [
      "Какая книга вас интересует?\n",
      "Game of Thrones\n",
      "Ваша книга: Game of Thrones\n",
      "Её автор: Джордж Р. Р. Мартин\n",
      "Её Аннотация: Аннотация\n",
      "Год издания: 1996\n",
      "Издательство: Bantam Spectra\n",
      "Количество страниц: 864\n"
     ]
    }
   ],
   "source": [
    "Book1 = dict()\n",
    "Book1['Name'] = 'Game of Thrones'\n",
    "Book1['Autor'] = 'Джордж Р. Р. Мартин'\n",
    "Book1['Annotation'] = 'Аннотация'\n",
    "Book1['Year'] = '1996'\n",
    "Book1['Press'] = 'Bantam Spectra'\n",
    "Book1['Pages'] = '864'\n",
    "#Book1['Game of Thrones'] = 'Game of Thrones','Джордж Р. Р. Мартин','Аннотация','1996','Bantam Spectra','864'\n",
    "\n",
    "print('Какая книга вас интересует?')\n",
    "name = input()\n",
    "if name == Book1['Name']:\n",
    "    print('Ваша книга:', Book1['Name'])\n",
    "    print('Её автор:',Book1['Autor'])\n",
    "    print('Её Аннотация:',Book1['Annotation'])\n",
    "    print('Год издания:',Book1['Year'])\n",
    "    print('Издательство:',Book1['Press'])\n",
    "    print('Количество страниц:',Book1['Pages'])\n",
    "                    \n",
    "else:\n",
    "    print('Вашей книги тут нет')\n",
    "\n"
   ]
  },
  {
   "cell_type": "code",
   "execution_count": null,
   "metadata": {},
   "outputs": [],
   "source": [
    "x=0\n",
    "Library=list()\n",
    "while (x==0) :\n",
    "    n=int (input('Введите количество книг в списке: '))\n",
    "    if n<8 :\n",
    "        print ('Введите еще раз')\n",
    "    else :\n",
    "        x=1\n",
    "for i in range(1,n+1):\n",
    "    Book=dict()\n",
    "    print('Введите название книги номер ',i)\n",
    "    Book['Name'] = input('Введите название книги ')\n",
    "    Book['Autor'] = input('Введите автора книги ')\n",
    "    Book['Annotation'] = input('Введите аннотацию книги ' )\n",
    "    Book['Year'] = input('Введите год издания книги ')\n",
    "    Book['Press'] = input('Введите издательство книги ')\n",
    "    Book['Pages'] = input('Введите количество страниц книги ')\n",
    "    Library.append(Book)\n",
    "        \n"
   ]
  },
  {
   "cell_type": "code",
   "execution_count": null,
   "metadata": {},
   "outputs": [],
   "source": []
  }
 ],
 "metadata": {
  "kernelspec": {
   "display_name": "Python 3",
   "language": "python",
   "name": "python3"
  },
  "language_info": {
   "codemirror_mode": {
    "name": "ipython",
    "version": 3
   },
   "file_extension": ".py",
   "mimetype": "text/x-python",
   "name": "python",
   "nbconvert_exporter": "python",
   "pygments_lexer": "ipython3",
   "version": "3.8.3"
  }
 },
 "nbformat": 4,
 "nbformat_minor": 4
}
